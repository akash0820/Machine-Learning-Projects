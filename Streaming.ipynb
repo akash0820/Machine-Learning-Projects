{
 "cells": [
  {
   "cell_type": "markdown",
   "id": "e552a768-4038-45bd-a141-7a864f56bc17",
   "metadata": {},
   "source": [
    "# Importing Libraries"
   ]
  },
  {
   "cell_type": "code",
   "execution_count": null,
   "id": "99385a2f-f1da-4958-8380-c211882d3383",
   "metadata": {},
   "outputs": [],
   "source": [
    "import pandas as pd\n",
    "import numpy as np\n",
    "import matplotlib.pyplot as plt\n",
    "import seaborn as sns\n",
    "from sklearn.preprocessing import LabelEncoder, StandardScaler\n",
    "from sklearn.model_selection import train_test_split\n",
    "from sklearn.feature_selection import RFE\n",
    "from sklearn.linear_model import LinearRegression, LogisticRegression\n",
    "from sklearn.ensemble import RandomForestRegressor, RandomForestClassifier\n",
    "from sklearn.neighbors import KNeighborsClassifier\n",
    "from sklearn.metrics import mean_squared_error, accuracy_score, classification_report, confusion_matrix\n",
    "from sklearn.metrics import mean_squared_error, r2_score\n",
    "from sklearn.metrics import classification_report\n",
    "from sklearn.metrics import roc_curve, auc\n",
    "from sklearn.preprocessing import label_binarize"
   ]
  },
  {
   "cell_type": "code",
   "execution_count": null,
   "id": "662867fe-1aa1-430f-b78e-46f63918c69e",
   "metadata": {},
   "outputs": [],
   "source": [
    "data = pd.read_csv(\"/Users/akash/Downloads/ML Project/Streaming.csv\")\n",
    "data.info()  # Inspect the dataset"
   ]
  },
  {
   "cell_type": "code",
   "execution_count": null,
   "id": "08096a9d-b3ff-4268-8441-af273db16623",
   "metadata": {},
   "outputs": [],
   "source": [
    "data.head()  # Display the first few rows"
   ]
  },
  {
   "cell_type": "markdown",
   "id": "b613f412-9abf-4d43-9d26-c825e9b85c26",
   "metadata": {},
   "source": [
    "# Data Cleaning"
   ]
  },
  {
   "cell_type": "code",
   "execution_count": null,
   "id": "fafc3dfb-f303-43fa-aaae-f3d9f3d71666",
   "metadata": {},
   "outputs": [],
   "source": [
    "# Step 3: Data Cleaning\n",
    "# Handle missing values\n",
    "data['Age'].fillna(data['Age'].median(), inplace=True)\n",
    "data['Satisfaction_Score'].fillna(data['Satisfaction_Score'].median(), inplace=True)\n",
    "\n",
    "# Fix outliers in 'Monthly_Spend' by replacing them with the median\n",
    "valid_range_min = 15\n",
    "valid_range_max = 70\n",
    "valid_median = data[(data['Monthly_Spend'] >= valid_range_min) & (data['Monthly_Spend'] <= valid_range_max)]['Monthly_Spend'].median()\n",
    "data.loc[data['Monthly_Spend'] < valid_range_min, 'Monthly_Spend'] = valid_median\n",
    "data.loc[data['Monthly_Spend'] > valid_range_max, 'Monthly_Spend'] = valid_median\n",
    "\n",
    "\n",
    "# Drop irrelevant columns\n",
    "data.drop(columns=['Customer_ID'], inplace=True)"
   ]
  },
  {
   "cell_type": "markdown",
   "id": "a80ba2de-d9eb-4931-a5b4-582371d563a1",
   "metadata": {},
   "source": [
    "# Data Validation check"
   ]
  },
  {
   "cell_type": "code",
   "execution_count": null,
   "id": "3d8f22ee-70c6-47f7-99bb-a42222f5a112",
   "metadata": {},
   "outputs": [],
   "source": [
    "# Check for missing values\n",
    "print(\"Missing Values Summary:\")\n",
    "print(data.isnull().sum())\n",
    "\n",
    "# Percentage of missing values in each column\n",
    "missing_percent = data.isnull().mean() * 100\n",
    "print(\"\\nPercentage of Missing Values:\")\n",
    "print(missing_percent)\n",
    "\n",
    "# Check for duplicate rows\n",
    "print(\"\\nNumber of duplicate rows:\", data.duplicated().sum())\n",
    "\n",
    "# Check data types of all columns\n",
    "print(\"\\nData Types:\")\n",
    "print(data.dtypes)\n",
    "\n",
    "# Check for unique values in categorical columns\n",
    "categorical_cols = ['Gender', 'Region', 'Payment_Method']  # Replace with your categorical column names\n",
    "for col in categorical_cols:\n",
    "    print(f\"\\nUnique values in {col}: {data[col].unique()}\")\n",
    "\n",
    "# Statistical summary for numeric columns to check for potential outliers\n",
    "print(\"\\nStatistical Summary of Numeric Columns:\")\n",
    "print(data.describe())"
   ]
  },
  {
   "cell_type": "code",
   "execution_count": null,
   "id": "426f544c-8d46-486f-b057-49b19b7ecb3b",
   "metadata": {},
   "outputs": [],
   "source": [
    "# Encode categorical variables\n",
    "label_encoders = {}\n",
    "categorical_cols = ['Gender', 'Region', 'Payment_Method']\n",
    "for col in categorical_cols:\n",
    "    le = LabelEncoder()\n",
    "    data[col] = le.fit_transform(data[col])\n",
    "    label_encoders[col] = le"
   ]
  },
  {
   "cell_type": "markdown",
   "id": "405271a4-b247-46f9-874b-79fbce9783b6",
   "metadata": {},
   "source": [
    "# Exploratory Data Analysis (EDA)"
   ]
  },
  {
   "cell_type": "code",
   "execution_count": null,
   "id": "f9781654-b302-4dfa-8fa0-12fbbc8c181c",
   "metadata": {},
   "outputs": [],
   "source": [
    "# Step 4: Exploratory Data Analysis (EDA)\n",
    "# Correlation matrix\n",
    "plt.figure(figsize=(10, 8))\n",
    "sns.heatmap(data.corr(), annot=True, cmap='coolwarm')\n",
    "plt.title('Correlation Matrix')\n",
    "plt.show()"
   ]
  },
  {
   "cell_type": "code",
   "execution_count": null,
   "id": "8d81b661-21eb-495b-bea0-0e18c6f3305c",
   "metadata": {},
   "outputs": [],
   "source": [
    "# Distribution plots\n",
    "sns.histplot(data['Monthly_Spend'], kde=True)\n",
    "plt.title('Monthly Spend Distribution After Outlier Handling')\n",
    "plt.show()"
   ]
  },
  {
   "cell_type": "code",
   "execution_count": null,
   "id": "376cfcaf-f40e-440e-9433-02632aeb3432",
   "metadata": {},
   "outputs": [],
   "source": [
    "# Count Plot for Churned\n",
    "ax = sns.countplot(x='Churned', data=data)\n",
    "plt.title('Churned Count')\n",
    "\n",
    "# Annotate each bar\n",
    "for bar in ax.patches:\n",
    "    ax.annotate(f'{int(bar.get_height())}', \n",
    "                (bar.get_x() + bar.get_width() / 2, bar.get_height()), \n",
    "                ha='center', va='bottom', fontsize=10)\n",
    "plt.show()"
   ]
  },
  {
   "cell_type": "markdown",
   "id": "f022e00e-9fc6-46e9-97bc-34933eb7a54f",
   "metadata": {},
   "source": [
    "# Feature Selection"
   ]
  },
  {
   "cell_type": "code",
   "execution_count": null,
   "id": "67b9e963-fbf4-4d88-aa41-e51c0be822fa",
   "metadata": {},
   "outputs": [],
   "source": [
    "# Step 5: Feature Selection using RFE\n",
    "# Separate features and target variables for regression and classification\n",
    "X = data.drop(columns=['Monthly_Spend', 'Churned'])\n",
    "y_reg = data['Monthly_Spend']\n",
    "y_class = data['Churned']\n",
    "\n",
    "# Scale features\n",
    "scaler = StandardScaler()\n",
    "X_scaled = scaler.fit_transform(X)\n",
    "\n",
    "# Recursive Feature Elimination (RFE) for regression\n",
    "lr = LinearRegression()\n",
    "rfe_reg = RFE(lr, n_features_to_select=4)\n",
    "rfe_reg.fit(X_scaled, y_reg)\n",
    "selected_features_reg = X.columns[rfe_reg.support_]\n",
    "\n",
    "# Recursive Feature Elimination (RFE) for classification\n",
    "clf = LogisticRegression()\n",
    "rfe_class = RFE(clf, n_features_to_select=5)\n",
    "rfe_class.fit(X_scaled, y_class)\n",
    "selected_features_class = X.columns[rfe_class.support_]\n",
    "\n",
    "print(\"Selected features for regression:\", selected_features_reg)\n",
    "print(\"Selected features for classification:\", selected_features_class)"
   ]
  },
  {
   "cell_type": "markdown",
   "id": "d007e5d9-7e83-4098-9b76-7f85a1fc7106",
   "metadata": {},
   "source": [
    "# Train-Test Split"
   ]
  },
  {
   "cell_type": "code",
   "execution_count": null,
   "id": "7709b740-003c-4b56-baf8-9c8f25fb85c0",
   "metadata": {},
   "outputs": [],
   "source": [
    "# Step 6: Train-Test Split\n",
    "X_reg = data[selected_features_reg]\n",
    "X_class = data[selected_features_class]\n",
    "\n",
    "X_reg_train, X_reg_test, y_reg_train, y_reg_test = train_test_split(X_reg, y_reg, test_size=0.3, random_state=42)\n",
    "X_class_train, X_class_test, y_class_train, y_class_test = train_test_split(X_class, y_class, test_size=0.3, random_state=42)"
   ]
  },
  {
   "cell_type": "markdown",
   "id": "4095b729-8558-4a64-bc27-1fe502cd904e",
   "metadata": {},
   "source": [
    "# Regression"
   ]
  },
  {
   "cell_type": "code",
   "execution_count": null,
   "id": "7df3373d-51f7-44c1-8db1-ae963e5672dc",
   "metadata": {},
   "outputs": [],
   "source": [
    "# Step 7: Train Models and Evaluate\n",
    "# Regression: Linear Regression and Random Forest Regressor\n",
    "# Train Models\n",
    "lr_model = LinearRegression()\n",
    "rf_reg_model = RandomForestRegressor(n_estimators=50, max_depth=10, random_state=42)\n",
    "\n",
    "lr_model.fit(X_reg_train, y_reg_train)\n",
    "rf_reg_model.fit(X_reg_train, y_reg_train)\n",
    "\n",
    "# Predictions\n",
    "y_reg_pred_lr = lr_model.predict(X_reg_test)\n",
    "y_reg_pred_rf = rf_reg_model.predict(X_reg_test)\n",
    "\n",
    "# Evaluation Metrics\n",
    "lr_r2 = r2_score(y_reg_test, y_reg_pred_lr)\n",
    "rf_r2 = r2_score(y_reg_test, y_reg_pred_rf)\n",
    "\n",
    "print(\"Linear Regression R^2:\", lr_r2)\n",
    "print(\"Random Forest Regressor R^2:\", rf_r2)"
   ]
  },
  {
   "cell_type": "markdown",
   "id": "5af8aaab-e0d9-4e2b-8607-583aa2e5201e",
   "metadata": {},
   "source": [
    "# Comparing Regression Metrics For Linear and Random Forest Regressor "
   ]
  },
  {
   "cell_type": "code",
   "execution_count": null,
   "id": "4dbe3775-7ff8-45ca-8afc-83b4d02c1e72",
   "metadata": {},
   "outputs": [],
   "source": [
    "lr_model = LinearRegression()\n",
    "rf_reg_model = RandomForestRegressor(n_estimators=50, max_depth=10, random_state=42)\n",
    "\n",
    "lr_model.fit(X_reg_train, y_reg_train)\n",
    "rf_reg_model.fit(X_reg_train, y_reg_train)\n",
    "\n",
    "# Predictions\n",
    "y_reg_pred_lr = lr_model.predict(X_reg_test)\n",
    "y_reg_pred_rf = rf_reg_model.predict(X_reg_test)\n",
    "\n",
    "# Evaluation Metrics (code remains the same)\n",
    "lr_r2 = r2_score(y_reg_test, y_reg_pred_lr)\n",
    "rf_r2 = r2_score(y_reg_test, y_reg_pred_rf)\n",
    "\n",
    "print(\"Linear Regression R^2:\", lr_r2)\n",
    "print(\"Random Forest Regressor R^2:\", rf_r2)\n",
    "\n",
    "# Visualize the Metrics \n",
    "plt.figure(figsize=(8, 6))\n",
    "plt.bar(['Linear Regression', 'Random Forest'], [lr_r2, rf_r2])\n",
    "plt.xlabel('Regression Model')\n",
    "plt.ylabel('R^2 Score')\n",
    "plt.title('Comparison of R^2 Scores')\n",
    "plt.xticks(rotation=0)\n",
    "plt.grid(axis='y', linestyle='--', alpha=0.7)\n",
    "\n",
    "# Print the R^2 values directly on the bars\n",
    "for i, v in enumerate([lr_r2, rf_r2]):\n",
    "    plt.text(i, v + 0.02, str(round(v, 2)), ha='center')  # Adjust y-offset as needed\n",
    "\n",
    "plt.tight_layout()\n",
    "plt.show()"
   ]
  },
  {
   "cell_type": "markdown",
   "id": "875b1e7e-0199-4bdd-8377-58334686a631",
   "metadata": {},
   "source": [
    "# Classification"
   ]
  },
  {
   "cell_type": "code",
   "execution_count": null,
   "id": "7aa11ce6-ebaf-45e4-a725-dc4d40894d85",
   "metadata": {},
   "outputs": [],
   "source": [
    "# Classification: Logistic Regression and Random Forest Classifier\n",
    "log_model = LogisticRegression()\n",
    "rf_class_model = RandomForestClassifier(random_state=42)\n",
    "log_model.fit(X_class_train, y_class_train)\n",
    "rf_class_model.fit(X_class_train, y_class_train)\n",
    "# k-NN classifiers with different k values\n",
    "knn_class_model_5 = KNeighborsClassifier(n_neighbors=5)\n",
    "knn_class_model_5.fit(X_class_train, y_class_train)\n",
    "knn_class_model_9 = KNeighborsClassifier(n_neighbors=9)\n",
    "knn_class_model_9.fit(X_class_train, y_class_train)\n",
    "y_class_pred_log = log_model.predict(X_class_test)\n",
    "y_class_pred_rf = rf_class_model.predict(X_class_test)\n",
    "y_class_pred_knn_5 = knn_class_model_5.predict(X_class_test)\n",
    "y_class_pred_knn_9 = knn_class_model_9.predict(X_class_test)\n",
    "\n",
    "print(\"Logistic Regression Accuracy:\", accuracy_score(y_class_test, y_class_pred_log))\n",
    "print(\"Random Forest Classifier Accuracy:\", accuracy_score(y_class_test, y_class_pred_rf))\n",
    "print(\"k-NN (k=5) Classifier Accuracy:\", accuracy_score(y_class_test, y_class_pred_rf))\n",
    "print(\"k-NN (k=9) Classifier Accuracy:\", accuracy_score(y_class_test, y_class_pred_rf))\n",
    "\n",
    "# Classification reports\n",
    "print(\"Logistic Regression Classification Report:\\n\", classification_report(y_class_test, y_class_pred_log))\n",
    "print(\"Random Forest Classification Report:\\n\", classification_report(y_class_test, y_class_pred_rf))\n",
    "print(\"k-NN (k=5) Classification Report:\\n\",classification_report(y_class_test, y_class_pred_knn_5))\n",
    "print(\"k-NN (k=9) Classification Report:\\n\",classification_report(y_class_test, y_class_pred_knn_9))"
   ]
  },
  {
   "cell_type": "code",
   "execution_count": null,
   "id": "92493129-3e25-44fc-95a8-d50eb568e58a",
   "metadata": {},
   "outputs": [],
   "source": [
    "# Confusion matrices\n",
    "sns.heatmap(confusion_matrix(y_class_test, y_class_pred_log), annot=True, fmt='d', cmap='Blues')\n",
    "plt.title('Logistic Regression Confusion Matrix')\n",
    "plt.show()\n",
    "\n",
    "sns.heatmap(confusion_matrix(y_class_test, y_class_pred_rf), annot=True, fmt='d', cmap='Greens')\n",
    "plt.title('Random Forest Confusion Matrix')\n",
    "plt.show()\n",
    "cmap = sns.diverging_palette(255, 0, s=100, n=9, as_cmap=True)\n",
    "pink_blue_cmap = LinearSegmentedColormap.from_list(\"pink_blue\", [\"#6495ed\", \"#ffffff\",\"#ff1493\"])\n",
    "\n",
    "sns.heatmap(confusion_matrix(y_class_test, y_class_pred_knn_5), annot=True, fmt='d', cmap=pink_blue_cmap)\n",
    "plt.title('k-NN Classification (k=5) Confusion Matrix ')\n",
    "plt.show()\n",
    "\n",
    "sns.heatmap(confusion_matrix(y_class_test, y_class_pred_knn_9), annot=True, fmt='d', cmap=pink_blue_cmap)\n",
    "plt.title('k-NN Classification (k=9) Confusion Matrix ')\n",
    "plt.show()"
   ]
  },
  {
   "cell_type": "code",
   "execution_count": null,
   "id": "13d60781-6248-4077-91da-a999655eb9a9",
   "metadata": {},
   "outputs": [],
   "source": [
    " # Binarize the target variable \n",
    "y_class_test_bin = label_binarize(y_class_test, classes=[0, 1])\n",
    " # Initialize the k-NN classifiers with k=5 and k=9\n",
    " knn_class_model_5 = KNeighborsClassifier(n_neighbors=5)\n",
    " knn_class_model_5.fit(X_class_train, y_class_train)\n",
    " knn_class_model_9 = KNeighborsClassifier(n_neighbors=9)\n",
    " knn_class_model_9.fit(X_class_train, y_class_train)\n",
    " # Initializing a dictionary for the models\n",
    " models = {\n",
    "    \"Logistic Regression\": log_model,\n",
    "    \"Random Forest\": rf_class_model,\n",
    "    \"k-NN (k=5)\": knn_class_model_5,\n",
    "    \"k-NN (k=9)\": knn_class_model_9\n",
    " }\n",
    " # Plotting ROC curve for each model\n",
    " plt.figure(figsize=(10, 8))\n",
    " for model_name, model in models.items():\n",
    "    y_prob = model.predict_proba(X_class_test)[:, 1]\n",
    "    \n",
    "    fpr, tpr, _ = roc_curve(y_class_test_bin, y_prob)\n",
    "    roc_auc = auc(fpr, tpr)\n",
    "    \n",
    "    # Plot the ROC curve for the current model\n",
    "    plt.plot(fpr, tpr, lw=2, label=f'{model_name} (AUC = {roc_auc:.2f})')\n",
    " # Plot the diagonal line\n",
    " plt.plot([0, 1], [0, 1], color='navy', lw=2, linestyle='--')\n",
    " plt.xlim([0.0, 1.0])\n",
    " plt.ylim([0.0, 1.05])\n",
    " plt.xlabel('False Positive Rate')\n",
    " plt.ylabel('True Positive Rate')\n",
    " plt.title('Receiver Operating Characteristic (ROC) Curve')\n",
    " plt.legend(loc=\"lower right\")\n",
    " plt.show()"
   ]
  }
 ],
 "metadata": {
  "kernelspec": {
   "display_name": "Python 3 (ipykernel)",
   "language": "python",
   "name": "python3"
  },
  "language_info": {
   "codemirror_mode": {
    "name": "ipython",
    "version": 3
   },
   "file_extension": ".py",
   "mimetype": "text/x-python",
   "name": "python",
   "nbconvert_exporter": "python",
   "pygments_lexer": "ipython3",
   "version": "3.12.4"
  }
 },
 "nbformat": 4,
 "nbformat_minor": 5
}
